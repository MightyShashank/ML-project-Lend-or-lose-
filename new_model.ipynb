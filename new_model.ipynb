{
 "cells": [
  {
   "cell_type": "code",
   "execution_count": null,
   "metadata": {
    "vscode": {
     "languageId": "plaintext"
    }
   },
   "outputs": [],
   "source": [
    "import pandas as pd\n",
    "from sklearn.model_selection import train_test_split, GridSearchCV\n",
    "from sklearn.ensemble import RandomForestClassifier\n",
    "from sklearn.metrics import accuracy_score\n",
    "from sklearn.preprocessing import LabelEncoder\n",
    "\n",
    "# Step 1: Load the train and test data\n",
    "train_df = pd.read_csv('train.csv')\n",
    "test_df = pd.read_csv('test.csv')\n",
    "\n",
    "# Step 2: Basic preprocessing\n",
    "# Separate the target variable and features\n",
    "X = train_df.drop(columns=['Default', 'LoanID'])  # Drop the target and LoanID\n",
    "y = train_df['Default']  # Target variable\n",
    "\n",
    "# Save LoanID from test set for final submission\n",
    "test_df_loanID = test_df['LoanID']\n",
    "X_test = test_df.drop(columns=['LoanID'])\n",
    "\n",
    "# Handle categorical variables (if any) using Label Encoding\n",
    "label_encoders = {}\n",
    "for column in X.select_dtypes(include=['object']).columns:\n",
    "    le = LabelEncoder()\n",
    "    X[column] = le.fit_transform(X[column].astype(str))\n",
    "    X_test[column] = le.transform(X_test[column].astype(str))  # Match encoding in test set\n",
    "    label_encoders[column] = le\n",
    "\n",
    "# Split train data for training and validation\n",
    "X_train, X_val, y_train, y_val = train_test_split(X, y, test_size=0.2, random_state=42)\n",
    "\n",
    "# Step 3: Define the model and perform GridSearchCV for hyperparameter tuning\n",
    "rf_model = RandomForestClassifier(random_state=42)\n",
    "param_grid = {\n",
    "    'n_estimators': [100, 200, 300],\n",
    "    'max_depth': [10, 20, None],\n",
    "    'min_samples_split': [2, 5, 10]\n",
    "}\n",
    "\n",
    "grid_search_rf = GridSearchCV(estimator=rf_model, param_grid=param_grid, cv=5, scoring='accuracy', n_jobs=-1, verbose=1)\n",
    "grid_search_rf.fit(X_train, y_train)\n",
    "\n",
    "# Step 4: Evaluate the model on validation data\n",
    "best_model = grid_search_rf.best_estimator_\n",
    "y_val_pred = best_model.predict(X_val)\n",
    "val_accuracy = accuracy_score(y_val, y_val_pred)\n",
    "print(f\"Validation Accuracy: {val_accuracy:.4f}\")\n",
    "\n",
    "# Step 5: Predict on the test set\n",
    "predictions1 = best_model.predict(X_test)\n",
    "\n",
    "# Step 6: Prepare the submission file\n",
    "submission_df = pd.DataFrame({\n",
    "    'LoanID': test_df_loanID,\n",
    "    'Default': predictions1\n",
    "})\n",
    "\n",
    "submission_df.to_csv('submission.csv', index=False)\n",
    "print(\"Submission file created as 'submission.csv'\")\n"
   ]
  }
 ],
 "metadata": {
  "language_info": {
   "name": "python"
  }
 },
 "nbformat": 4,
 "nbformat_minor": 2
}
